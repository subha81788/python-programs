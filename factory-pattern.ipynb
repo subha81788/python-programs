{
 "cells": [
  {
   "cell_type": "code",
   "execution_count": 12,
   "metadata": {},
   "outputs": [],
   "source": [
    "# Python Code for factory method\n",
    "# it comes under the creational Design Pattern\n",
    "\n",
    "class EnglishLocalizer:\n",
    "\t\"\"\"Simply return the same message\"\"\"\n",
    "\n",
    "\tdef localize(self, msg):\n",
    "\t\treturn msg\n",
    "\n",
    "\n",
    "class FrenchLocalizer:\n",
    "\n",
    "\t\"\"\" it simply returns the french version \"\"\"\n",
    "\n",
    "\tdef __init__(self):\n",
    "\n",
    "\t\tself.translations = {\"car\": \"voiture\", \"bike\": \"bicyclette\",\n",
    "\t\t\t\t\t\t\t\"cycle\":\"cyclette\"}\n",
    "\n",
    "\tdef localize(self, msg):\n",
    "\n",
    "\t\t\"\"\"change the message using translations\"\"\"\n",
    "\t\treturn self.translations.get(msg, \"Not Found\")\n",
    "\n",
    "    \n",
    "class SpanishLocalizer:\n",
    "\t\"\"\"it simply returns the spanish version\"\"\"\n",
    "\n",
    "\tdef __init__(self):\n",
    "\t\tself.translations = {\"car\": \"coche\", \"bike\": \"bicicleta\",\n",
    "\t\t\t\t\t\t\t\"cycle\":\"ciclo\"}\n",
    "\n",
    "\tdef localize(self, msg):\n",
    "\n",
    "\t\t\"\"\"change the message using translations\"\"\"\n",
    "\t\treturn self.translations.get(msg, \"Not Found\")\n",
    "\n",
    "\n",
    "def Factory(language =\"English\"):\n",
    "\n",
    "\t\"\"\"Factory Method\"\"\"\n",
    "\tlocalizers = {\n",
    "\t\t\"French\": FrenchLocalizer,\n",
    "\t\t\"English\": EnglishLocalizer,\n",
    "\t\t\"Spanish\": SpanishLocalizer,\n",
    "\t}\n",
    "\n",
    "\treturn localizers[language]()"
   ]
  },
  {
   "cell_type": "code",
   "execution_count": 14,
   "metadata": {},
   "outputs": [
    {
     "name": "stdout",
     "output_type": "stream",
     "text": [
      "car voiture coche \n",
      "\n",
      "bike bicyclette bicicleta \n",
      "\n",
      "cycle cyclette ciclo \n",
      "\n",
      "ship Not Found Not Found \n",
      "\n"
     ]
    }
   ],
   "source": [
    "e = Factory(\"English\")\n",
    "f = Factory(\"French\")\n",
    "s = Factory(\"Spanish\")\n",
    "\n",
    "message = [\"car\", \"bike\", \"cycle\", \"ship\"]\n",
    "\n",
    "for msg in message:\n",
    "\tprint(e.localize(msg),f.localize(msg),s.localize(msg),'\\n')"
   ]
  }
 ],
 "metadata": {
  "kernelspec": {
   "display_name": "Python 3",
   "language": "python",
   "name": "python3"
  },
  "language_info": {
   "codemirror_mode": {
    "name": "ipython",
    "version": 3
   },
   "file_extension": ".py",
   "mimetype": "text/x-python",
   "name": "python",
   "nbconvert_exporter": "python",
   "pygments_lexer": "ipython3",
   "version": "3.8.3"
  }
 },
 "nbformat": 4,
 "nbformat_minor": 4
}
