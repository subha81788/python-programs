{
 "cells": [
  {
   "cell_type": "code",
   "execution_count": 9,
   "metadata": {},
   "outputs": [],
   "source": [
    "class Student:\n",
    "    def __init__(self, name, age, grade):\n",
    "        self.name = name\n",
    "        self.age = age\n",
    "        self.grade = grade\n",
    "\n",
    "    def __repr__(self):\n",
    "        return(f'name={self.name}, age={self.age}, grade={self.grade}')\n"
   ]
  },
  {
   "cell_type": "code",
   "execution_count": 17,
   "metadata": {},
   "outputs": [
    {
     "name": "stdout",
     "output_type": "stream",
     "text": [
      "[name=Ram, age=A, grade=10, name=Madhu, age=A, grade=13, name=Shyam, age=B, grade=11, name=Jadu, age=C, grade=12]\n",
      "[name=Jadu, age=C, grade=12, name=Madhu, age=A, grade=13, name=Ram, age=A, grade=10, name=Shyam, age=B, grade=11]\n",
      "[name=Ram, age=A, grade=10, name=Madhu, age=A, grade=13, name=Shyam, age=B, grade=11, name=Jadu, age=C, grade=12]\n"
     ]
    }
   ],
   "source": [
    "from operator import attrgetter\n",
    "\n",
    "if __name__ == '__main__':\n",
    "    student_list = [\n",
    "        Student('Shyam', 'B', 11),\n",
    "        Student('Ram', 'A', 10),\n",
    "        Student('Madhu', 'A', 13),\n",
    "        Student('Jadu', 'C', 12)\n",
    "        ]\n",
    "    sort_by_age = lambda s : s.age\n",
    "    sorted_student_list_by_age = sorted(student_list, key = sort_by_age)\n",
    "    print(sorted_student_list_by_age)\n",
    "    \n",
    "    sort_by_name = attrgetter('name')\n",
    "    sorted_student_list_by_name = sorted(student_list, key = sort_by_name)\n",
    "    print(sorted_student_list_by_name)\n",
    "    \n",
    "    sort_by_age_then_by_grade_then_by_name = attrgetter('age', 'grade', 'name')\n",
    "    sorted_student_list_by_age_then_grade_then_name = sorted(student_list, key = sort_by_age_then_by_grade_then_by_name)\n",
    "    print(sorted_student_list_by_age_then_grade_then_name)"
   ]
  },
  {
   "cell_type": "code",
   "execution_count": null,
   "metadata": {},
   "outputs": [],
   "source": []
  },
  {
   "cell_type": "code",
   "execution_count": null,
   "metadata": {},
   "outputs": [],
   "source": []
  }
 ],
 "metadata": {
  "kernelspec": {
   "display_name": "Python 3",
   "language": "python",
   "name": "python3"
  },
  "language_info": {
   "codemirror_mode": {
    "name": "ipython",
    "version": 3
   },
   "file_extension": ".py",
   "mimetype": "text/x-python",
   "name": "python",
   "nbconvert_exporter": "python",
   "pygments_lexer": "ipython3",
   "version": "3.8.3"
  }
 },
 "nbformat": 4,
 "nbformat_minor": 4
}
