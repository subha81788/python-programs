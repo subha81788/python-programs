{
 "cells": [
  {
   "cell_type": "code",
   "execution_count": 9,
   "metadata": {},
   "outputs": [],
   "source": [
    "class complex:\n",
    "    def __init__(self, a, b):\n",
    "        self.a = a\n",
    "        self.b = b\n",
    " \n",
    "    # adding two objects\n",
    "    def __add__(self, o):\n",
    "        return complex(self.a + o.a, self.b + o.b)\n",
    "    \n",
    "    def __eq__(self, o):\n",
    "        return self.a == o.a and self.b == o.b\n",
    "    \n",
    "    def __str__(self):\n",
    "        return f'{self.a}+j{self.b}'"
   ]
  },
  {
   "cell_type": "code",
   "execution_count": 11,
   "metadata": {},
   "outputs": [
    {
     "name": "stdout",
     "output_type": "stream",
     "text": [
      "1+j1\n",
      "2+j2\n",
      "3+j3\n",
      "True\n"
     ]
    }
   ],
   "source": [
    "ob1 = complex(1, 1)\n",
    "ob2 = complex(2, 2)\n",
    "ob3 = ob1 + ob2\n",
    "print(ob1)\n",
    "print(ob2)\n",
    "print(ob3)\n",
    "print((ob1+ob2) == ob3)"
   ]
  }
 ],
 "metadata": {
  "kernelspec": {
   "display_name": "Python 3",
   "language": "python",
   "name": "python3"
  },
  "language_info": {
   "codemirror_mode": {
    "name": "ipython",
    "version": 3
   },
   "file_extension": ".py",
   "mimetype": "text/x-python",
   "name": "python",
   "nbconvert_exporter": "python",
   "pygments_lexer": "ipython3",
   "version": "3.8.3"
  }
 },
 "nbformat": 4,
 "nbformat_minor": 4
}
