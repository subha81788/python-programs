{
 "cells": [
  {
   "cell_type": "code",
   "execution_count": 1,
   "metadata": {},
   "outputs": [],
   "source": [
    "from datetime import timezone\n",
    "import datetime\n",
    "\n",
    "class ValueTooSmallError(Exception):\n",
    "        \n",
    "    def __init__(self, message, createdAt=datetime.datetime.now(timezone.utc)):\n",
    "        self.message = message\n",
    "        self.createdAt = createdAt\n",
    "        super().__init__(self.message)\n",
    "        \n",
    "    def __str__(self):\n",
    "        return f'{self.message}\\t{self.createdAt}'"
   ]
  },
  {
   "cell_type": "code",
   "execution_count": 2,
   "metadata": {},
   "outputs": [],
   "source": [
    "class ValueTooLargeError(Exception):\n",
    "        \n",
    "    def __init__(self, message, createdAt=datetime.datetime.now(timezone.utc)):\n",
    "        self.message = message\n",
    "        self.createdAt = createdAt\n",
    "        super().__init__(self.message)\n",
    "        \n",
    "    def __str__(self):\n",
    "        return f'{self.message}\\t{self.createdAt}'"
   ]
  },
  {
   "cell_type": "code",
   "execution_count": 6,
   "metadata": {},
   "outputs": [
    {
     "name": "stdout",
     "output_type": "stream",
     "text": [
      "Enter a number: 9\n",
      "This value is too small, try again!\n",
      "\n",
      "This always gets executed\n",
      "\n",
      "Enter a number: 11\n",
      "This value is too large, try again!\n",
      "\n",
      "This always gets executed\n",
      "\n",
      "Enter a number: 10\n",
      "Congratulations! You guessed it correctly.\n",
      "This always gets executed\n",
      "\n"
     ]
    }
   ],
   "source": [
    "number = 10\n",
    "\n",
    "# user guesses a number until he/she gets it right\n",
    "while True:\n",
    "    try:\n",
    "        i = int(input('Enter a number: '))\n",
    "        if i < number:\n",
    "            raise ValueTooSmallError(\"This value is too small, try again!\")\n",
    "        elif i > number:\n",
    "            raise ValueTooLargeError(\"This value is too large, try again!\")\n",
    "    except ValueTooSmallError as e:\n",
    "        print(e.message)\n",
    "        print()\n",
    "    except ValueTooLargeError as e:\n",
    "        print(e.message)\n",
    "        print()\n",
    "    else:\n",
    "        print('Congratulations! You guessed it correctly.')\n",
    "        break\n",
    "    finally:\n",
    "        print('This always gets executed\\n')"
   ]
  },
  {
   "cell_type": "code",
   "execution_count": null,
   "metadata": {},
   "outputs": [],
   "source": []
  }
 ],
 "metadata": {
  "kernelspec": {
   "display_name": "Python 3",
   "language": "python",
   "name": "python3"
  },
  "language_info": {
   "codemirror_mode": {
    "name": "ipython",
    "version": 3
   },
   "file_extension": ".py",
   "mimetype": "text/x-python",
   "name": "python",
   "nbconvert_exporter": "python",
   "pygments_lexer": "ipython3",
   "version": "3.8.3"
  }
 },
 "nbformat": 4,
 "nbformat_minor": 4
}
