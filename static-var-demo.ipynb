{
 "cells": [
  {
   "cell_type": "code",
   "execution_count": 8,
   "metadata": {},
   "outputs": [
    {
     "name": "stdout",
     "output_type": "stream",
     "text": [
      "Geek\tcse\t1\n",
      "Nerd\tcse\t2\n",
      "\n",
      "cse\n",
      "Geek\tece\t1\n",
      "Nerd\tcse\t2\n",
      "\n",
      "Geek\tece\t1\n",
      "Nerd\tmech\t2\n"
     ]
    }
   ],
   "source": [
    "# Python program to show that the variables with a value\n",
    "# assigned in class declaration, are class variables\n",
    "\n",
    "# Class for Computer Science Student\n",
    "class CSStudent:\n",
    "    stream = 'cse'\t\t\t\t # Class Variable\n",
    "    \n",
    "    def __init__(self,name,roll):\n",
    "        self.name = name\n",
    "        self.roll = roll\t\t # Instance Variable\n",
    "        \n",
    "    def __str__(self):\n",
    "        return f'{self.name}\\t{self.stream}\\t{self.roll}'\n",
    "\n",
    "# Objects of CSStudent class\n",
    "a = CSStudent('Geek', 1)\n",
    "b = CSStudent('Nerd', 2)\n",
    "\n",
    "print(a)\n",
    "print(b)\n",
    "print()\n",
    "\n",
    "# Class variables can be accessed using class\n",
    "# name also\n",
    "print(CSStudent.stream) # prints \"cse\"\n",
    "\n",
    "# Now if we change the stream for just a it won't be changed for b\n",
    "a.stream = 'ece'\n",
    "print(a) # prints 'ece'\n",
    "print(b) # prints 'cse'\n",
    "print()\n",
    "\n",
    "# To change the stream for all instances of the class we can change it\n",
    "# directly from the class\n",
    "CSStudent.stream = 'mech'\n",
    "\n",
    "print(a) # prints 'ece'\n",
    "print(b) # prints 'mech'"
   ]
  }
 ],
 "metadata": {
  "kernelspec": {
   "display_name": "Python 3",
   "language": "python",
   "name": "python3"
  },
  "language_info": {
   "codemirror_mode": {
    "name": "ipython",
    "version": 3
   },
   "file_extension": ".py",
   "mimetype": "text/x-python",
   "name": "python",
   "nbconvert_exporter": "python",
   "pygments_lexer": "ipython3",
   "version": "3.8.3"
  }
 },
 "nbformat": 4,
 "nbformat_minor": 4
}
